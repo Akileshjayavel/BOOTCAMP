{
 "cells": [
  {
   "cell_type": "code",
   "execution_count": 2,
   "metadata": {},
   "outputs": [
    {
     "name": "stdout",
     "output_type": "stream",
     "text": [
      "Robot Model: X-200\n",
      "Energy Level: 50\n",
      "Error: 'Robot' object has no attribute '__energy_level'\n",
      "\n",
      "Modifying energy level:\n",
      "Energy after setting: 80\n",
      "Robot Model: X-200\n",
      "Energy Level: 100\n",
      "Amount to charge must be positive.\n",
      "Energy level must be between 0 and 100.\n"
     ]
    }
   ],
   "source": [
    "\n",
    "\n",
    "\n",
    "class Robot:\n",
    "    def __init__(self, model, energy_level):\n",
    "        self._model = model\n",
    "        self.__energy_level = energy_level  \n",
    "    \n",
    "    def get_energy(self):\n",
    "        return self.__energy_level\n",
    "\n",
    "    def set_energy(self, energy):\n",
    "        if 0 <= energy <= 100: \n",
    "            self.__energy_level = energy\n",
    "        else:\n",
    "            print(\"Energy level must be between 0 and 100.\")\n",
    "   \n",
    "    def charge(self, amount):\n",
    "        if amount > 0:\n",
    "            self.__energy_level += amount\n",
    "            if self.__energy_level > 100:\n",
    "                self.__energy_level = 100\n",
    "        else:\n",
    "            print(\"Amount to charge must be positive.\")\n",
    "    \n",
    "   \n",
    "    def display_info(self):\n",
    "        print(f\"Robot Model: {self._model}\")\n",
    "        print(f\"Energy Level: {self.__energy_level}\")\n",
    "    \n",
    "\n",
    "my_robot = Robot(\"X-200\", 50)\n",
    "\n",
    "\n",
    "my_robot.display_info()\n",
    "\n",
    "\n",
    "try:\n",
    "    print(my_robot.__energy_level)\n",
    "except AttributeError as e:\n",
    "    print(f\"Error: {e}\")\n",
    "\n",
    "print(\"\\nModifying energy level:\")\n",
    "my_robot.set_energy(80)  \n",
    "print(\"Energy after setting:\", my_robot.get_energy())\n",
    "\n",
    "\n",
    "my_robot.charge(25)\n",
    "my_robot.display_info()\n",
    "\n",
    "my_robot.charge(-10)\n",
    "\n",
    "my_robot.set_energy(120) \n",
    "\n"
   ]
  }
 ],
 "metadata": {
  "kernelspec": {
   "display_name": "base",
   "language": "python",
   "name": "python3"
  },
  "language_info": {
   "codemirror_mode": {
    "name": "ipython",
    "version": 3
   },
   "file_extension": ".py",
   "mimetype": "text/x-python",
   "name": "python",
   "nbconvert_exporter": "python",
   "pygments_lexer": "ipython3",
   "version": "3.12.7"
  }
 },
 "nbformat": 4,
 "nbformat_minor": 5
}
