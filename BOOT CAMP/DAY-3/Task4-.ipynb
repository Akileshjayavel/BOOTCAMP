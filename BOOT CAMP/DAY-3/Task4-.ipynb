{
 "cells": [
  {
   "cell_type": "code",
   "execution_count": 5,
   "id": "6362d5f1-d371-4282-904e-bd8bfeceee09",
   "metadata": {},
   "outputs": [
    {
     "name": "stdout",
     "output_type": "stream",
     "text": [
      "kityy is meowing.\n",
      "kityy is purring.\n",
      "kityy is playing\n",
      "kityy is barking\n",
      "kityy is sleeping\n"
     ]
    }
   ],
   "source": [
    "class Cat:\n",
    "    def __init__(self, name, age):\n",
    "        self.name = name\n",
    "        self.age = age\n",
    "\n",
    "    def meow(self):\n",
    "        print(f\"{self.name} is meowing.\")\n",
    "\n",
    "    def purr(self):\n",
    "        print(f\"{self.name} is purring.\")\n",
    "\n",
    "class Dog:\n",
    "    def __init__(self, name, age):\n",
    "        self.name = name\n",
    "        self.age = age\n",
    "\n",
    "    def bark(self):\n",
    "        print(f\"{self.name} is barking\")\n",
    "\n",
    "    def sleep(self):\n",
    "        print(f\"{self.name} is sleeping\")\n",
    "\n",
    "class Hybrid(Cat, Dog):\n",
    "    def __init__(self, name, age):\n",
    "        Cat.__init__(self, name, age)\n",
    "        Dog.__init__(self, name, age)  \n",
    "    def play(self):\n",
    "        print(f\"{self.name} is playing\")\n",
    "\n",
    "\n",
    "dog1 = Hybrid(\"kityy\", 3)\n",
    "\n",
    "\n",
    "dog1.meow()\n",
    "dog1.purr()\n",
    "dog1.play()\n",
    "dog1.bark()\n",
    "dog1.sleep()\n",
    "\n",
    "\n",
    "\n",
    "\n",
    "\n",
    "\n"
   ]
  },
  {
   "cell_type": "code",
   "execution_count": null,
   "id": "bfa6d2b3-5895-497e-828d-93befe936184",
   "metadata": {},
   "outputs": [],
   "source": []
  }
 ],
 "metadata": {
  "kernelspec": {
   "display_name": "Python 3 (ipykernel)",
   "language": "python",
   "name": "python3"
  },
  "language_info": {
   "codemirror_mode": {
    "name": "ipython",
    "version": 3
   },
   "file_extension": ".py",
   "mimetype": "text/x-python",
   "name": "python",
   "nbconvert_exporter": "python",
   "pygments_lexer": "ipython3",
   "version": "3.12.7"
  }
 },
 "nbformat": 4,
 "nbformat_minor": 5
}
