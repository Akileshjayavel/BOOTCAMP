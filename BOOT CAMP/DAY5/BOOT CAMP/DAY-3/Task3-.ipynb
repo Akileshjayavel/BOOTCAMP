{
 "cells": [
  {
   "cell_type": "code",
   "execution_count": 1,
   "metadata": {},
   "outputs": [
    {
     "name": "stdout",
     "output_type": "stream",
     "text": [
      "Buddy is barking\n",
      "Buddy is sleeping\n",
      "Buddy is playing with a ball!\n"
     ]
    }
   ],
   "source": [
    "\n",
    "class Dog:\n",
    "    def __init__(self, name, age):\n",
    "        self.name = name\n",
    "        self.age = age\n",
    "    \n",
    "    def bark(self):\n",
    "        print(f\"{self.name} is barking\")\n",
    "        \n",
    "    def sleep(self):\n",
    "        print(f\"{self.name} is sleeping\")\n",
    "\n",
    "class Puppy(Dog):\n",
    "    def __init__(self, name, age, favorite_toy):\n",
    "        super().__init__(name, age) \n",
    "        self.favorite_toy = favorite_toy\n",
    "    \n",
    "    def play(self):\n",
    "        print(f\"{self.name} is playing with a {self.favorite_toy}!\")\n",
    "\n",
    "my_puppy = Puppy(\"Buddy\", 1, \"ball\")\n",
    "my_puppy.bark()\n",
    "my_puppy.sleep()\n",
    "my_puppy.play()"
   ]
  }
 ],
 "metadata": {
  "kernelspec": {
   "display_name": "base",
   "language": "python",
   "name": "python3"
  },
  "language_info": {
   "codemirror_mode": {
    "name": "ipython",
    "version": 3
   },
   "file_extension": ".py",
   "mimetype": "text/x-python",
   "name": "python",
   "nbconvert_exporter": "python",
   "pygments_lexer": "ipython3",
   "version": "3.12.7"
  }
 },
 "nbformat": 4,
 "nbformat_minor": 5
}
